{
  "nbformat": 4,
  "nbformat_minor": 0,
  "metadata": {
    "colab": {
      "name": "Reto1_If_Else.ipynb",
      "provenance": [],
      "authorship_tag": "ABX9TyPN37338TYAGaFJViTEI9Mv",
      "include_colab_link": true
    },
    "kernelspec": {
      "name": "python3",
      "display_name": "Python 3"
    }
  },
  "cells": [
    {
      "cell_type": "markdown",
      "metadata": {
        "id": "view-in-github",
        "colab_type": "text"
      },
      "source": [
        "<a href=\"https://colab.research.google.com/github/valvarezgi/RetosDataScienceFEM/blob/main/Reto1_If_Else.ipynb\" target=\"_parent\"><img src=\"https://colab.research.google.com/assets/colab-badge.svg\" alt=\"Open In Colab\"/></a>"
      ]
    },
    {
      "cell_type": "code",
      "metadata": {
        "id": "4l-vixcWwrv0"
      },
      "source": [
        "#!/bin/python3\n",
        "\n",
        "import math\n",
        "import os\n",
        "import random\n",
        "import re\n",
        "import sys\n",
        "\n",
        "\n",
        "\n",
        "if __name__ == '__main__':\n",
        "    n = int(input().strip())\n",
        "\n",
        "    if n % 2 != 0:\n",
        "        print(\"Weird\")\n",
        "    else: \n",
        "        if n in range(2, 6):\n",
        "            print(\"Not Weird\")\n",
        "        elif n in range(6, 21):\n",
        "            print(\"Weird\")\n",
        "        else:\n",
        "            print(\"Not Weird\")"
      ],
      "execution_count": null,
      "outputs": []
    }
  ]
}